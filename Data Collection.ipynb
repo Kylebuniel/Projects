{
 "cells": [
  {
   "cell_type": "markdown",
   "id": "6b69ae10",
   "metadata": {},
   "source": [
    "## Getting the Historical Data For the Magnificent 7\n",
    "\n",
    "- Ensure you have downloaded the yahoo finance library and change the path according to your sytem."
   ]
  },
  {
   "cell_type": "code",
   "execution_count": 4,
   "id": "e99a659f",
   "metadata": {},
   "outputs": [],
   "source": [
    "import pathlib\n",
    "import numpy as np\n",
    "import pandas as pd\n",
    "import matplotlib.pyplot as plt\n",
    "import scipy.optimize as sci_plt\n",
    "\n",
    "from pprint import pprint\n",
    "from sklearn.preprocessing import StandardScaler\n",
    "##from pyopt.client import PriceHistory\n",
    "##didnt set the \n"
   ]
  },
  {
   "cell_type": "code",
   "execution_count": 5,
   "id": "8d7725f4",
   "metadata": {},
   "outputs": [
    {
     "name": "stdout",
     "output_type": "stream",
     "text": [
      "Original Stock Data has been exported to: C:\\Users\\Kyle\\Desktop\\Portfolio optimisation\\original_stock_data.csv\n",
      "Pivoted Stock Data has been exported to: C:\\Users\\Kyle\\Desktop\\Portfolio optimisation\\pivoted_stock_data.csv\n"
     ]
    }
   ],
   "source": [
    "import yfinance as yf\n",
    "import pandas as pd\n",
    "\n",
    "\n",
    "def get_stock_data(symbols):\n",
    "   \n",
    "    stock_data = pd.DataFrame()\n",
    "    for symbol in symbols:\n",
    "        stock = yf.Ticker(symbol)\n",
    "        data = stock.history(period='10y')  # Gather data for the last 10 Years\n",
    "        data['Symbol'] = symbol  # Add a 'Symbol' column to identify the data for each symbol\n",
    "        data.reset_index(inplace=True)  # Reset index to make date a column\n",
    "        stock_data = pd.concat([stock_data, data])\n",
    "    return stock_data\n",
    "\n",
    "symbols = ['AAPL', 'MSFT', 'GOOGL', 'AMZN', 'NVDA', 'META', 'TSLA']\n",
    "\n",
    "stock_data_df = get_stock_data(symbols)\n",
    "\n",
    "# Save the original DataFrame as CSV\n",
    "original_csv_file = r'C:\\Users\\Kyle\\Desktop\\Portfolio optimisation\\original_stock_data.csv'\n",
    "stock_data_df.to_csv(original_csv_file, index=False)\n",
    "print(\"Original Stock Data has been exported to:\", original_csv_file)\n",
    "\n",
    "# Pivot the DataFrame with the date as index abd only extracting the stock close\n",
    "pivot_data_df = stock_data_df.pivot_table(index='Date', columns='Symbol', values='Close')\n",
    "\n",
    "# Save the pivoted DataFrame as CSV\n",
    "pivoted_csv_file = r'C:\\Users\\Kyle\\Desktop\\Portfolio optimisation\\pivoted_stock_data.csv'\n",
    "pivot_data_df.to_csv(pivoted_csv_file)\n",
    "print(\"Pivoted Stock Data has been exported to:\", pivoted_csv_file)\n",
    "\n",
    "#Printing the notes to ensure the steps were followed properly\n"
   ]
  }
 ],
 "metadata": {
  "kernelspec": {
   "display_name": "Python 3 (ipykernel)",
   "language": "python",
   "name": "python3"
  },
  "language_info": {
   "codemirror_mode": {
    "name": "ipython",
    "version": 3
   },
   "file_extension": ".py",
   "mimetype": "text/x-python",
   "name": "python",
   "nbconvert_exporter": "python",
   "pygments_lexer": "ipython3",
   "version": "3.11.7"
  }
 },
 "nbformat": 4,
 "nbformat_minor": 5
}
